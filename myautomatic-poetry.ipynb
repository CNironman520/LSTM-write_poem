{
 "cells": [
  {
   "cell_type": "markdown",
   "metadata": {},
   "source": [
    "# 自动写诗      \n",
    "首先导入必要的库："
   ]
  },
  {
   "cell_type": "code",
   "execution_count": 1,
   "metadata": {},
   "outputs": [],
   "source": [
    "import numpy as np\n",
    "import torch\n",
    "import torch.nn as nn\n",
    "from torch.utils.data import DataLoader\n",
    "from tqdm import tqdm\n",
    "import sys"
   ]
  },
  {
   "cell_type": "markdown",
   "metadata": {},
   "source": [
    "# 加载数据集\n",
    "\n",
    "本次实验的数据来自chinese-poetry：https://github.com/chinese-poetry/chinese-poetry\n",
    "\n",
    "实验提供预处理过的数据集，含有57580首唐诗，每首诗限定在125词，不足125词的以```<s>```填充。数据集以npz文件形式保存，包含三个部分：\n",
    "- （1）data: 诗词数据，将诗词中的字转化为其在字典中的序号表示。\n",
    "- （2）ix2word: 序号到字的映射\n",
    "- （3）word2ix: 字到序号的映射\n",
    "\n",
    "预处理数据集的下载：[点击下载](https://yun.sfo2.digitaloceanspaces.com/pytorch_book/pytorch_book/tang.npz)"
   ]
  },
  {
   "cell_type": "code",
   "execution_count": 5,
   "metadata": {},
   "outputs": [],
   "source": [
    "def prepareData():\n",
    "    \n",
    "    # 读入预处理的数据\n",
    "    datas = np.load(\"tang.npz\",allow_pickle=True)\n",
    "    data = datas['data']\n",
    "    ix2word = datas['ix2word'].item()\n",
    "    word2ix = datas['word2ix'].item()\n",
    "    \n",
    "    # 转为torch.Tensor\n",
    "    data = torch.from_numpy(data)\n",
    "    dataloader = DataLoader(data,\n",
    "                         batch_size = 16,\n",
    "                         shuffle = True,\n",
    "                         num_workers = 2\n",
    "                         )\n",
    "    \n",
    "    return dataloader, ix2word, word2ix"
   ]
  },
  {
   "cell_type": "code",
   "execution_count": 6,
   "metadata": {},
   "outputs": [],
   "source": [
    "dataloader, ix2word, word2ix = prepareData()"
   ]
  },
  {
   "cell_type": "markdown",
   "metadata": {},
   "source": [
    "# 构建模型\n",
    "\n",
    "模型包括Embedding层、LSTM层和输出层。"
   ]
  },
  {
   "cell_type": "code",
   "execution_count": 8,
   "metadata": {},
   "outputs": [],
   "source": [
    "class PoetryModel(nn.Module):\n",
    "    def __init__(self, vocab_size, embedding_dim, hidden_dim):\n",
    "        super(PoetryModel, self).__init__()\n",
    "        self.hidden_dim = hidden_dim\n",
    "        self.embedding = nn.Embedding(vocab_size, embedding_dim)\n",
    "        self.lstm = nn.LSTM(embedding_dim, self.hidden_dim, num_layers=2)\n",
    "        self.linear = nn.Linear(self.hidden_dim, vocab_size)\n",
    "\n",
    "    def forward(self, input, hidden = None):\n",
    "        seq_len, batch_size = input.size()\n",
    "        \n",
    "        if hidden is None:\n",
    "            h_0 = input.data.new(2, batch_size, self.hidden_dim).fill_(0).float()\n",
    "            c_0 = input.data.new(2, batch_size, self.hidden_dim).fill_(0).float()\n",
    "        else:\n",
    "            h_0, c_0 = hidden\n",
    "\n",
    "        embeds = self.embedding(input)\n",
    "        output, hidden = self.lstm(embeds, (h_0, c_0))\n",
    "        output = self.linear(output.view(seq_len * batch_size, -1))\n",
    "        return output, hidden"
   ]
  },
  {
   "cell_type": "markdown",
   "metadata": {},
   "source": [
    "# 训练模型"
   ]
  },
  {
   "cell_type": "code",
   "execution_count": 9,
   "metadata": {},
   "outputs": [],
   "source": [
    "# 设置超参数\n",
    "learning_rate = 5e-3       # 学习率\n",
    "embedding_dim = 128        # 嵌入层维度\n",
    "hidden_dim = 256           # 隐藏层维度\n",
    "model_path = None          # 预训练模型路径\n",
    "epochs = 4                 # 训练轮数\n",
    "verbose = True             # 打印训练过程\n",
    "device = torch.device('cuda:0' if torch.cuda.is_available() else 'cpu')"
   ]
  },
  {
   "cell_type": "code",
   "execution_count": 72,
   "metadata": {},
   "outputs": [],
   "source": [
    "def train(dataloader, ix2word, word2ix):\n",
    "    # 配置模型，是否继续上一次的训练\n",
    "    model = PoetryModel(len(word2ix), embedding_dim, hidden_dim)\n",
    "    if model_path:\n",
    "        model.load_state_dict(torch.load(model_path))\n",
    "    model.to(device)\n",
    "    \n",
    "    # 设置优化器\n",
    "    optimizer = torch.optim.Adam(model.parameters(), lr = learning_rate)\n",
    "\n",
    "    # 设置损失函数\n",
    "    criterion = nn.CrossEntropyLoss()\n",
    "\n",
    "    # 定义训练过程\n",
    "    for epoch in range(epochs):\n",
    "        # 创建tqdm对象\n",
    "        pbar = tqdm(enumerate(dataloader), total=len(dataloader), file=sys.stdout)\n",
    "        for batch_idx, data in pbar:\n",
    "            data = data.long().transpose(1, 0).contiguous()\n",
    "            data = data.to(device)\n",
    "            input, target = data[:-1, :], data[1:, :]\n",
    "            output, _ = model(input)\n",
    "            loss = criterion(output, target.view(-1))\n",
    "            \n",
    "            # 更新进度条\n",
    "            pbar.set_description(f'Train Epoch: {epoch+1} [{batch_idx * len(data[1])}/{len(dataloader.dataset)} ({100. * batch_idx / len(dataloader):.1f}%)] Loss: {loss.item():.6f}')\n",
    "            \n",
    "            optimizer.zero_grad()\n",
    "            loss.backward()\n",
    "            optimizer.step()\n",
    "\n",
    "        # 关闭进度条\n",
    "        pbar.close()\n",
    "\n",
    "    # 保存模型\n",
    "    torch.save(model.state_dict(), 'model1.pth')"
   ]
  },
  {
   "cell_type": "code",
   "execution_count": 73,
   "metadata": {},
   "outputs": [
    {
     "name": "stdout",
     "output_type": "stream",
     "text": [
      "Train Epoch: 1 [43176/57580 (100.0%)] Loss: 2.171277: 100%|██████████| 3599/3599 [01:04<00:00, 55.88it/s]\n",
      "Train Epoch: 2 [43176/57580 (100.0%)] Loss: 2.025051: 100%|██████████| 3599/3599 [01:03<00:00, 56.50it/s]\n",
      "Train Epoch: 3 [43176/57580 (100.0%)] Loss: 2.248627: 100%|██████████| 3599/3599 [01:03<00:00, 56.84it/s]\n",
      "Train Epoch: 4 [43176/57580 (100.0%)] Loss: 1.795037: 100%|██████████| 3599/3599 [01:02<00:00, 57.24it/s]\n"
     ]
    }
   ],
   "source": [
    "train(dataloader, ix2word, word2ix)"
   ]
  },
  {
   "cell_type": "markdown",
   "metadata": {},
   "source": [
    "# 生成唐诗\n",
    "\n",
    "给定几个词，根据这几个词接着生成一首完整的唐诗。"
   ]
  },
  {
   "cell_type": "code",
   "execution_count": 75,
   "metadata": {
    "scrolled": false
   },
   "outputs": [],
   "source": [
    "def generate(start_words, ix2word, word2ix):\n",
    "\n",
    "    # 读取模型\n",
    "    model = PoetryModel(len(word2ix), embedding_dim, hidden_dim)\n",
    "    model.load_state_dict(torch.load(model_path))\n",
    "    model.to(device)\n",
    "    \n",
    "    # 读取唐诗的第一句\n",
    "    results = list(start_words)\n",
    "    start_word_len = len(start_words)\n",
    "    \n",
    "    # 设置第一个词为<START>\n",
    "    input = torch.Tensor([word2ix['<START>']]).view(1, 1).long()\n",
    "    input = input.to(device)\n",
    "    hidden = None\n",
    "\n",
    "    # 生成唐诗\n",
    "    for i in range(max_gen_len):\n",
    "        output, hidden = model(input, hidden)\n",
    "        # 读取第一句\n",
    "        if i < start_word_len:\n",
    "            w = results[i]\n",
    "            input = input.data.new([word2ix[w]]).view(1, 1)\n",
    "        # 生成后面的句子\n",
    "        else:\n",
    "            top_index = output.data[0].topk(1)[1][0].item()\n",
    "            w = ix2word[top_index]\n",
    "            results.append(w)\n",
    "            input = input.data.new([top_index]).view(1, 1)\n",
    "        # 结束标志\n",
    "        if w == '<EOP>':\n",
    "            del results[-1]\n",
    "            break\n",
    "            \n",
    "    return results"
   ]
  },
  {
   "cell_type": "code",
   "execution_count": 89,
   "metadata": {},
   "outputs": [
    {
     "name": "stdout",
     "output_type": "stream",
     "text": [
      "['湖', '光', '秋', '月', '两', '相', '和', '，', '一', '片', '风', '流', '不', '可', '寻', '。', '一', '片', '风', '流', '千', '里', '外', '，', '一', '年', '春', '色', '满', '江', '头', '。', '风', '流', '不', '见', '青', '山', '外', '，', '人', '世', '不', '知', '何', '处', '寻', '。', '山', '水', '悠', '悠', '云', '雨', '夜', '，', '月', '明', '寒', '食', '白', '云', '端', '。']\n"
     ]
    }
   ],
   "source": [
    "# 设置超参数\n",
    "model_path = 'model1.pth'        # 模型路径\n",
    "start_words = '湖光秋月两相和'  # 唐诗的第一句\n",
    "max_gen_len = 64              # 生成唐诗的最长长度\n",
    "results = generate(start_words, ix2word, word2ix)\n",
    "print(results)"
   ]
  },
  {
   "cell_type": "code",
   "execution_count": 91,
   "metadata": {},
   "outputs": [
    {
     "name": "stdout",
     "output_type": "stream",
     "text": [
      "湖光秋月两相和，一片风流不可寻。\n",
      "一片风流千里外，一年春色满江头。\n",
      "风流不见青山外，人世不知何处寻。\n",
      "山水悠悠云雨夜，月明寒食白云端。\n"
     ]
    }
   ],
   "source": [
    "for i in results:\n",
    "    print(i, end=\"\")\n",
    "    if i ==\"。\":\n",
    "        print('')"
   ]
  },
  {
   "cell_type": "markdown",
   "metadata": {},
   "source": [
    "# 生成藏头诗\n",
    "\n"
   ]
  },
  {
   "cell_type": "code",
   "execution_count": 3,
   "metadata": {
    "scrolled": false
   },
   "outputs": [],
   "source": [
    "def gen_acrostic(start_words, ix2word, word2ix):\n",
    "\n",
    "    # 读取模型\n",
    "    model = PoetryModel(len(word2ix), embedding_dim, hidden_dim)\n",
    "    model.load_state_dict(torch.load(model_path))\n",
    "    model.to(device)\n",
    "    \n",
    "    # 读取唐诗的“头”\n",
    "    results = []\n",
    "    start_word_len = len(start_words)\n",
    "    \n",
    "    # 设置第一个词为<START>\n",
    "    input = (torch.Tensor([word2ix['<START>']]).view(1, 1).long())\n",
    "    input = input.to(device)\n",
    "    hidden = None\n",
    "\n",
    "    index = 0            # 指示已生成了多少句\n",
    "    pre_word = '<START>' # 上一个词\n",
    "\n",
    "    # 生成藏头诗\n",
    "    for i in range(max_gen_len_acrostic):\n",
    "        output, hidden = model(input, hidden)\n",
    "        top_index = output.data[0].topk(1)[1][0].item()\n",
    "        w = ix2word[top_index]\n",
    "\n",
    "        # 如果遇到标志一句的结尾，喂入下一个“头”\n",
    "        if (pre_word in {u'。', u'！', '<START>'}):\n",
    "            # 如果生成的诗已经包含全部“头”，则结束\n",
    "            if index == start_word_len:\n",
    "                break\n",
    "            # 把“头”作为输入喂入模型\n",
    "            else:\n",
    "                w = start_words[index]\n",
    "                index += 1\n",
    "                input = (input.data.new([word2ix[w]])).view(1, 1)\n",
    "                \n",
    "        # 否则，把上一次预测作为下一个词输入\n",
    "        else:\n",
    "            input = (input.data.new([word2ix[w]])).view(1, 1)\n",
    "        results.append(w)\n",
    "        pre_word = w\n",
    "        \n",
    "    return results"
   ]
  },
  {
   "cell_type": "code",
   "execution_count": 10,
   "metadata": {},
   "outputs": [
    {
     "name": "stdout",
     "output_type": "stream",
     "text": [
      "['湖', '水', '有', '清', '浅', '，', '山', '川', '无', '所', '依', '。', '光', '辉', '照', '云', '雨', '，', '白', '日', '照', '江', '湖', '。', '秋', '风', '吹', '白', '日', '，', '白', '日', '照', '江', '湖', '。', '月', '下', '天', '地', '间', '，', '山', '中', '有', '余', '姿', '。', '两', '岸', '不', '可', '见', '，', '高', '楼', '无', '所', '依', '。', '相', '思', '不', '可', '见', '，', '不', '见', '人', '间', '时', '。', '和', '风', '吹', '白', '日', '，', '白', '日', '照', '江', '湖', '。']\n"
     ]
    }
   ],
   "source": [
    "# 设置超参数\n",
    "model_path = 'model1.pth'                 # 模型路径\n",
    "start_words_acrostic = '湖光秋月两相和'  # 唐诗的“头”\n",
    "max_gen_len_acrostic = 128              # 生成唐诗的最长长度\n",
    "results_acrostic = gen_acrostic(start_words_acrostic, ix2word, word2ix)\n",
    "print(results_acrostic)"
   ]
  },
  {
   "cell_type": "code",
   "execution_count": 98,
   "metadata": {},
   "outputs": [
    {
     "name": "stdout",
     "output_type": "stream",
     "text": [
      "湖水有清浅，山川无所依。\n",
      "光辉照云雨，白日照江湖。\n",
      "秋风吹白日，白日照江湖。\n",
      "月下天地间，山中有余姿。\n",
      "两岸不可见，高楼无所依。\n",
      "相思不可见，不见人间时。\n",
      "和风吹白日，白日照江湖。\n"
     ]
    }
   ],
   "source": [
    "for i in results_acrostic:\n",
    "    print(i, end=\"\")\n",
    "    if i ==\"。\":\n",
    "        print('')"
   ]
  }
 ],
 "metadata": {
  "kernelspec": {
   "display_name": "Python 3",
   "language": "python",
   "name": "python3"
  },
  "language_info": {
   "codemirror_mode": {
    "name": "ipython",
    "version": 3
   },
   "file_extension": ".py",
   "mimetype": "text/x-python",
   "name": "python",
   "nbconvert_exporter": "python",
   "pygments_lexer": "ipython3",
   "version": "3.11.8"
  }
 },
 "nbformat": 4,
 "nbformat_minor": 2
}
